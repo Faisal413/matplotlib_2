{
 "cells": [
  {
   "cell_type": "markdown",
   "metadata": {
    "hideCode": false,
    "hidePrompt": false
   },
   "source": [
    "# Matplotlib"
   ]
  },
  {
   "cell_type": "markdown",
   "metadata": {
    "toc": true
   },
   "source": [
    "<h1>Table of Contents<span class=\"tocSkip\"></span></h1>\n",
    "<div class=\"toc\"><ul class=\"toc-item\"><li><span><a href=\"#Matplotlib\" data-toc-modified-id=\"Matplotlib-1\"><span class=\"toc-item-num\">1&nbsp;&nbsp;</span>Matplotlib</a></span><ul class=\"toc-item\"><li><span><a href=\"#Metadata-about-the-notebook\" data-toc-modified-id=\"Metadata-about-the-notebook-1.1\"><span class=\"toc-item-num\">1.1&nbsp;&nbsp;</span>Metadata about the notebook</a></span></li><li><span><a href=\"#Learning-Objectives\" data-toc-modified-id=\"Learning-Objectives-1.2\"><span class=\"toc-item-num\">1.2&nbsp;&nbsp;</span>Learning Objectives</a></span></li><li><span><a href=\"#Make-a-figure\" data-toc-modified-id=\"Make-a-figure-1.3\"><span class=\"toc-item-num\">1.3&nbsp;&nbsp;</span>Make a figure</a></span></li><li><span><a href=\"#Scatter-Plot:-The-easiest-first-example\" data-toc-modified-id=\"Scatter-Plot:-The-easiest-first-example-1.4\"><span class=\"toc-item-num\">1.4&nbsp;&nbsp;</span>Scatter Plot: The easiest first example</a></span><ul class=\"toc-item\"><li><span><a href=\"#Question\" data-toc-modified-id=\"Question-1.4.1\"><span class=\"toc-item-num\">1.4.1&nbsp;&nbsp;</span>Question</a></span></li><li><span><a href=\"#Question\" data-toc-modified-id=\"Question-1.4.2\"><span class=\"toc-item-num\">1.4.2&nbsp;&nbsp;</span>Question</a></span></li><li><span><a href=\"#Can-you-draw-this-graph?-(10-pts)\" data-toc-modified-id=\"Can-you-draw-this-graph?-(10-pts)-1.4.3\"><span class=\"toc-item-num\">1.4.3&nbsp;&nbsp;</span>Can you draw this graph? (10 pts)</a></span></li></ul></li><li><span><a href=\"#The-line-plot\" data-toc-modified-id=\"The-line-plot-1.5\"><span class=\"toc-item-num\">1.5&nbsp;&nbsp;</span>The line plot</a></span><ul class=\"toc-item\"><li><span><a href=\"#Question\" data-toc-modified-id=\"Question-1.5.1\"><span class=\"toc-item-num\">1.5.1&nbsp;&nbsp;</span>Question</a></span></li><li><span><a href=\"#Question\" data-toc-modified-id=\"Question-1.5.2\"><span class=\"toc-item-num\">1.5.2&nbsp;&nbsp;</span>Question</a></span></li></ul></li><li><span><a href=\"#Histograms\" data-toc-modified-id=\"Histograms-1.6\"><span class=\"toc-item-num\">1.6&nbsp;&nbsp;</span>Histograms</a></span><ul class=\"toc-item\"><li><span><a href=\"#Question\" data-toc-modified-id=\"Question-1.6.1\"><span class=\"toc-item-num\">1.6.1&nbsp;&nbsp;</span>Question</a></span></li><li><span><a href=\"#Question\" data-toc-modified-id=\"Question-1.6.2\"><span class=\"toc-item-num\">1.6.2&nbsp;&nbsp;</span>Question</a></span></li><li><span><a href=\"#Question\" data-toc-modified-id=\"Question-1.6.3\"><span class=\"toc-item-num\">1.6.3&nbsp;&nbsp;</span>Question</a></span></li><li><span><a href=\"#Question\" data-toc-modified-id=\"Question-1.6.4\"><span class=\"toc-item-num\">1.6.4&nbsp;&nbsp;</span>Question</a></span></li></ul></li><li><span><a href=\"#Bar-Graphs\" data-toc-modified-id=\"Bar-Graphs-1.7\"><span class=\"toc-item-num\">1.7&nbsp;&nbsp;</span>Bar Graphs</a></span></li><li><span><a href=\"#Graph's-Anatomy\" data-toc-modified-id=\"Graph's-Anatomy-1.8\"><span class=\"toc-item-num\">1.8&nbsp;&nbsp;</span>Graph's Anatomy</a></span><ul class=\"toc-item\"><li><span><a href=\"#Question\" data-toc-modified-id=\"Question-1.8.1\"><span class=\"toc-item-num\">1.8.1&nbsp;&nbsp;</span>Question</a></span></li><li><span><a href=\"#Question\" data-toc-modified-id=\"Question-1.8.2\"><span class=\"toc-item-num\">1.8.2&nbsp;&nbsp;</span>Question</a></span></li></ul></li><li><span><a href=\"#Titles\" data-toc-modified-id=\"Titles-1.9\"><span class=\"toc-item-num\">1.9&nbsp;&nbsp;</span>Titles</a></span><ul class=\"toc-item\"><li><span><a href=\"#Question\" data-toc-modified-id=\"Question-1.9.1\"><span class=\"toc-item-num\">1.9.1&nbsp;&nbsp;</span>Question</a></span></li><li><span><a href=\"#Question\" data-toc-modified-id=\"Question-1.9.2\"><span class=\"toc-item-num\">1.9.2&nbsp;&nbsp;</span>Question</a></span></li></ul></li><li><span><a href=\"#Using-the-ax\" data-toc-modified-id=\"Using-the-ax-1.10\"><span class=\"toc-item-num\">1.10&nbsp;&nbsp;</span>Using the ax</a></span><ul class=\"toc-item\"><li><span><a href=\"#Question\" data-toc-modified-id=\"Question-1.10.1\"><span class=\"toc-item-num\">1.10.1&nbsp;&nbsp;</span>Question</a></span></li><li><span><a href=\"#Question\" data-toc-modified-id=\"Question-1.10.2\"><span class=\"toc-item-num\">1.10.2&nbsp;&nbsp;</span>Question</a></span></li></ul></li><li><span><a href=\"#Legends-and-Labels\" data-toc-modified-id=\"Legends-and-Labels-1.11\"><span class=\"toc-item-num\">1.11&nbsp;&nbsp;</span>Legends and Labels</a></span></li><li><span><a href=\"#Scatter-Styling\" data-toc-modified-id=\"Scatter-Styling-1.12\"><span class=\"toc-item-num\">1.12&nbsp;&nbsp;</span>Scatter Styling</a></span><ul class=\"toc-item\"><li><span><a href=\"#Question\" data-toc-modified-id=\"Question-1.12.1\"><span class=\"toc-item-num\">1.12.1&nbsp;&nbsp;</span>Question</a></span></li><li><span><a href=\"#Question\" data-toc-modified-id=\"Question-1.12.2\"><span class=\"toc-item-num\">1.12.2&nbsp;&nbsp;</span>Question</a></span></li><li><span><a href=\"#Question\" data-toc-modified-id=\"Question-1.12.3\"><span class=\"toc-item-num\">1.12.3&nbsp;&nbsp;</span>Question</a></span></li></ul></li><li><span><a href=\"#Unleash-the-full-power-of-subplots()!\" data-toc-modified-id=\"Unleash-the-full-power-of-subplots()!-1.13\"><span class=\"toc-item-num\">1.13&nbsp;&nbsp;</span>Unleash the full power of <code>subplots()</code>!</a></span><ul class=\"toc-item\"><li><ul class=\"toc-item\"><li><span><a href=\"#Control-figure-size\" data-toc-modified-id=\"Control-figure-size-1.13.0.1\"><span class=\"toc-item-num\">1.13.0.1&nbsp;&nbsp;</span>Control figure size</a></span></li><li><span><a href=\"#Iterating-over-axes-in-a-subplot\" data-toc-modified-id=\"Iterating-over-axes-in-a-subplot-1.13.0.2\"><span class=\"toc-item-num\">1.13.0.2&nbsp;&nbsp;</span>Iterating over axes in a subplot</a></span></li></ul></li><li><span><a href=\"#Question\" data-toc-modified-id=\"Question-1.13.1\"><span class=\"toc-item-num\">1.13.1&nbsp;&nbsp;</span>Question</a></span></li><li><span><a href=\"#Question\" data-toc-modified-id=\"Question-1.13.2\"><span class=\"toc-item-num\">1.13.2&nbsp;&nbsp;</span>Question</a></span></li><li><span><a href=\"#Question\" data-toc-modified-id=\"Question-1.13.3\"><span class=\"toc-item-num\">1.13.3&nbsp;&nbsp;</span>Question</a></span></li></ul></li><li><span><a href=\"#plt.plot\" data-toc-modified-id=\"plt.plot-1.14\"><span class=\"toc-item-num\">1.14&nbsp;&nbsp;</span>plt.plot</a></span></li><li><span><a href=\"#The-Object-Oriented-interface\" data-toc-modified-id=\"The-Object-Oriented-interface-1.15\"><span class=\"toc-item-num\">1.15&nbsp;&nbsp;</span>The Object Oriented interface</a></span></li><li><span><a href=\"#Plotting-with-Pandas\" data-toc-modified-id=\"Plotting-with-Pandas-1.16\"><span class=\"toc-item-num\">1.16&nbsp;&nbsp;</span>Plotting with Pandas</a></span><ul class=\"toc-item\"><li><span><a href=\"#Question\" data-toc-modified-id=\"Question-1.16.1\"><span class=\"toc-item-num\">1.16.1&nbsp;&nbsp;</span>Question</a></span></li><li><span><a href=\"#Question\" data-toc-modified-id=\"Question-1.16.2\"><span class=\"toc-item-num\">1.16.2&nbsp;&nbsp;</span>Question</a></span></li><li><span><a href=\"#Question\" data-toc-modified-id=\"Question-1.16.3\"><span class=\"toc-item-num\">1.16.3&nbsp;&nbsp;</span>Question</a></span></li><li><span><a href=\"#Question\" data-toc-modified-id=\"Question-1.16.4\"><span class=\"toc-item-num\">1.16.4&nbsp;&nbsp;</span>Question</a></span></li><li><span><a href=\"#Question\" data-toc-modified-id=\"Question-1.16.5\"><span class=\"toc-item-num\">1.16.5&nbsp;&nbsp;</span>Question</a></span></li></ul></li><li><span><a href=\"#More-pandas-plotting-methods:-the-histogram\" data-toc-modified-id=\"More-pandas-plotting-methods:-the-histogram-1.17\"><span class=\"toc-item-num\">1.17&nbsp;&nbsp;</span>More pandas plotting methods: the histogram</a></span><ul class=\"toc-item\"><li><span><a href=\"#Scatter-plot\" data-toc-modified-id=\"Scatter-plot-1.17.1\"><span class=\"toc-item-num\">1.17.1&nbsp;&nbsp;</span>Scatter plot</a></span><ul class=\"toc-item\"><li><span><a href=\"#Separate-the-quality=5-category.\" data-toc-modified-id=\"Separate-the-quality=5-category.-1.17.1.1\"><span class=\"toc-item-num\">1.17.1.1&nbsp;&nbsp;</span>Separate the <code>quality=5</code> category.</a></span></li></ul></li><li><span><a href=\"#Question\" data-toc-modified-id=\"Question-1.17.2\"><span class=\"toc-item-num\">1.17.2&nbsp;&nbsp;</span>Question</a></span></li><li><span><a href=\"#Question\" data-toc-modified-id=\"Question-1.17.3\"><span class=\"toc-item-num\">1.17.3&nbsp;&nbsp;</span>Question</a></span></li><li><span><a href=\"#Quesiton\" data-toc-modified-id=\"Quesiton-1.17.4\"><span class=\"toc-item-num\">1.17.4&nbsp;&nbsp;</span>Quesiton</a></span></li><li><span><a href=\"#Scatter-Matrix\" data-toc-modified-id=\"Scatter-Matrix-1.17.5\"><span class=\"toc-item-num\">1.17.5&nbsp;&nbsp;</span>Scatter Matrix</a></span></li></ul></li></ul></li><li><span><a href=\"#Tips-on-writting-your-own-plotting-functions\" data-toc-modified-id=\"Tips-on-writting-your-own-plotting-functions-2\"><span class=\"toc-item-num\">2&nbsp;&nbsp;</span>Tips on writting your own plotting functions</a></span><ul class=\"toc-item\"><li><ul class=\"toc-item\"><li><span><a href=\"#Question\" data-toc-modified-id=\"Question-2.0.1\"><span class=\"toc-item-num\">2.0.1&nbsp;&nbsp;</span>Question</a></span></li></ul></li><li><span><a href=\"#Quick-tip:-passing-arbitrary-numbers-of-arguments-&amp;-keyword-arguments\" data-toc-modified-id=\"Quick-tip:-passing-arbitrary-numbers-of-arguments-&amp;-keyword-arguments-2.1\"><span class=\"toc-item-num\">2.1&nbsp;&nbsp;</span>Quick tip: passing arbitrary numbers of arguments &amp; keyword arguments</a></span></li><li><span><a href=\"#another-quick-reminder:-unpacking\" data-toc-modified-id=\"another-quick-reminder:-unpacking-2.2\"><span class=\"toc-item-num\">2.2&nbsp;&nbsp;</span>another quick reminder: unpacking</a></span></li></ul></li><li><span><a href=\"#The-End\" data-toc-modified-id=\"The-End-3\"><span class=\"toc-item-num\">3&nbsp;&nbsp;</span>The End</a></span></li></ul></div>"
   ]
  },
  {
   "cell_type": "markdown",
   "metadata": {
    "hideCode": false,
    "hidePrompt": false
   },
   "source": [
    "## Metadata about the notebook\n",
    "\n",
    "1. Instructor to contact for quality issue as Jan 31, 2021: \n",
    "  * Ron Li (ron.li@galvanize.com) \n",
    "  * Phil Geurin (phil.geurin@galvanize.com)\n",
    "\n",
    "\n",
    "## Learning Objectives\n",
    "\n",
    "1. Name and recognize the two interfaces to `matplotlib`\n",
    "2. Be able to use both interfaces to generate charts\n",
    "3. Understand the connection between `matplotlib` and `pandas`\n",
    "4. Make plots with multiple datasets, and figures\n",
    "5. Know the recommended functional form for writing your own plotting functions"
   ]
  },
  {
   "cell_type": "markdown",
   "metadata": {},
   "source": [
    "First we must import our packages."
   ]
  },
  {
   "cell_type": "code",
   "execution_count": 5,
   "metadata": {},
   "outputs": [],
   "source": [
    "import numpy as np\n",
    "import pandas as pd\n",
    "import matplotlib.pyplot as plt"
   ]
  },
  {
   "cell_type": "markdown",
   "metadata": {},
   "source": [
    "## Make a figure"
   ]
  },
  {
   "cell_type": "markdown",
   "metadata": {},
   "source": [
    "Now let's first make a figure object. This is the object we put graphs in."
   ]
  },
  {
   "cell_type": "code",
   "execution_count": 6,
   "metadata": {
    "scrolled": true
   },
   "outputs": [
    {
     "data": {
      "image/png": "[encoded data removed]",
      "text/plain": [
       "<Figure size 432x288 with 1 Axes>"
      ]
     },
     "metadata": {
      "needs_background": "light"
     },
     "output_type": "display_data"
    }
   ],
   "source": [
    "fig, ax = plt.subplots()"
   ]
  },
  {
   "cell_type": "markdown",
   "metadata": {},
   "source": [
    "We'll dig into these details later. But first, let's start plotting!"
   ]
  },
  {
   "cell_type": "markdown",
   "metadata": {},
   "source": [
    "## Scatter Plot: The easiest first example"
   ]
  },
  {
   "cell_type": "markdown",
   "metadata": {},
   "source": [
    "The scatterplot is considered the purest and most efficient of the graphs. And for good reason. We will start with it."
   ]
  },
  {
   "cell_type": "code",
   "execution_count": 7,
   "metadata": {},
   "outputs": [
    {
     "data": {
      "text/plain": [
       "<matplotlib.collections.PathCollection at 0x2426b85c160>"
      ]
     },
     "execution_count": 7,
     "metadata": {},
     "output_type": "execute_result"
    },
    {
     "data": {
      "image/png": "[encoded data removed]",
      "text/plain": [
       "<Figure size 432x288 with 1 Axes>"
      ]
     },
     "metadata": {
      "needs_background": "light"
     },
     "output_type": "display_data"
    }
   ],
   "source": [
    "x_data = [1, 2, 3, 4, 5]\n",
    "y_data = [1, 2, 3, 4, 5]\n",
    "\n",
    "fig, ax = plt.subplots()\n",
    "ax.scatter(x_data, y_data)"
   ]
  },
  {
   "cell_type": "markdown",
   "metadata": {},
   "source": [
    "We are effectively plotting (1,1), (2,2), (3,3), (4,4) (5,5).\n",
    "\n",
    "Notice that the pairs could be in any order, as long as they are 'paired' right."
   ]
  },
  {
   "cell_type": "code",
   "execution_count": 8,
   "metadata": {
    "scrolled": true
   },
   "outputs": [
    {
     "data": {
      "text/plain": [
       "<matplotlib.collections.PathCollection at 0x2426b886580>"
      ]
     },
     "execution_count": 8,
     "metadata": {},
     "output_type": "execute_result"
    },
    {
     "data": {
      "image/png": "[encoded data removed]",
      "text/plain": [
       "<Figure size 432x288 with 1 Axes>"
      ]
     },
     "metadata": {
      "needs_background": "light"
     },
     "output_type": "display_data"
    }
   ],
   "source": [
    "x_scrambled = [3, 1, 5, 2, 4]\n",
    "y_scrambled = [3, 1, 5, 2, 4]\n",
    "\n",
    "fig, ax = plt.subplots()\n",
    "ax.scatter(x_scrambled, y_scrambled)"
   ]
  },
  {
   "cell_type": "markdown",
   "metadata": {},
   "source": [
    "### Question\n",
    "\n",
    "Can you make a scatterplot of `y_data` with `x_scrambled`? (10 pts)\n",
    "\n",
    "Your result will look like this:\n",
    "![scrambled](https://i.ibb.co/z8HXCGg/scrambled.png)"
   ]
  },
  {
   "cell_type": "code",
   "execution_count": 9,
   "metadata": {},
   "outputs": [
    {
     "data": {
      "text/plain": [
       "<matplotlib.collections.PathCollection at 0x2426b92ef40>"
      ]
     },
     "execution_count": 9,
     "metadata": {},
     "output_type": "execute_result"
    },
    {
     "data": {
      "image/png": "[encoded data removed]",
      "text/plain": [
       "<Figure size 432x288 with 1 Axes>"
      ]
     },
     "metadata": {
      "needs_background": "light"
     },
     "output_type": "display_data"
    }
   ],
   "source": [
    "# Your code goes here.\n",
    "x_scrambled = [1, 2, 3, 4, 5]\n",
    "y_scrambled = [2, 5, 1, 3, 4]\n",
    "\n",
    "fig, ax = plt.subplots()\n",
    "ax.scatter(x_scrambled, y_scrambled)\n"
   ]
  },
  {
   "cell_type": "markdown",
   "metadata": {},
   "source": [
    "<details>\n",
    "  <summary>Click to expand the solution!</summary>\n",
    "    \n",
    " ```python\n",
    "    x_scrambled = [3, 1, 5, 2, 4]\n",
    "    y_data = [1, 2, 4, 5, 3]\n",
    "\n",
    "    fig, ax = plt.subplots()\n",
    "    ax.scatter(x_scrambled, y_data)\n",
    "    \n",
    " ```\n",
    "</details>"
   ]
  },
  {
   "cell_type": "markdown",
   "metadata": {},
   "source": [
    "### Question\n",
    "\n",
    "Can you draw four dots to represent a square? (10 pts)\n",
    "\n",
    "Your solution will look like the following image. Notice that it is not a square? It looks like Matplotlib's scaling is not consistent.\n",
    "![solution_square_scatter](https://i.ibb.co/DDHT3GK/square.png)"
   ]
  },
  {
   "cell_type": "code",
   "execution_count": 10,
   "metadata": {},
   "outputs": [
    {
     "data": {
      "text/plain": [
       "<matplotlib.collections.PathCollection at 0x2426b8a1100>"
      ]
     },
     "execution_count": 10,
     "metadata": {},
     "output_type": "execute_result"
    },
    {
     "data": {
      "image/png": "[encoded data removed]",
      "text/plain": [
       "<Figure size 432x288 with 1 Axes>"
      ]
     },
     "metadata": {
      "needs_background": "light"
     },
     "output_type": "display_data"
    }
   ],
   "source": [
    "# Your code goes here.\n",
    "x_scrambled = [1, 5]\n",
    "y_scrambled = [1, 1]\n",
    "x2_scrambled = [1, 5]\n",
    "y2_scrambled = [5, 5]\n",
    "\n",
    "\n",
    "fig, ax = plt.subplots()\n",
    "ax.scatter(x_scrambled, y_scrambled)\n",
    "ax.scatter(x2_scrambled ,y2_scrambled)"
   ]
  },
  {
   "cell_type": "markdown",
   "metadata": {},
   "source": [
    "<details>\n",
    "  <summary>Click to expand the solution!</summary>\n",
    "    \n",
    " ```python\n",
    "    fig, ax = plt.subplots()\n",
    "    ax.scatter([-1,-1,1,1],[-1,1,-1,1])\n",
    " ```\n",
    "</details>\n",
    "\n",
    "---\n"
   ]
  },
  {
   "cell_type": "markdown",
   "metadata": {},
   "source": [
    "### Can you draw this graph? (10 pts)\n",
    "\n",
    "![solution_decending_line](https://i.ibb.co/VgHNH7B/decend-graph.png)\n",
    "Use the axis to find the correct values."
   ]
  },
  {
   "cell_type": "code",
   "execution_count": 11,
   "metadata": {},
   "outputs": [
    {
     "data": {
      "text/plain": [
       "<matplotlib.collections.PathCollection at 0x2426b81d520>"
      ]
     },
     "execution_count": 11,
     "metadata": {},
     "output_type": "execute_result"
    },
    {
     "data": {
      "image/png": "[encoded data removed]",
      "text/plain": [
       "<Figure size 432x288 with 1 Axes>"
      ]
     },
     "metadata": {
      "needs_background": "light"
     },
     "output_type": "display_data"
    }
   ],
   "source": [
    "# Your code goes here.\n",
    "# Your code goes here.\n",
    "x_scrambled = [1, 2, 3, 4, 5]\n",
    "y_scrambled = [5, 4, 3, 2, 1]\n",
    "\n",
    "fig, ax = plt.subplots()\n",
    "ax.scatter(x_scrambled, y_scrambled)"
   ]
  },
  {
   "cell_type": "markdown",
   "metadata": {},
   "source": [
    "<details>\n",
    "  <summary>Click to expand the solution!</summary>\n",
    "    \n",
    " ```python\n",
    "    fig, ax = plt.subplots()\n",
    "    ax.scatter([1,2,3,4,5], [5,4,3,2,1])\n",
    " ```\n",
    "</details>\n",
    "\n",
    "---"
   ]
  },
  {
   "cell_type": "markdown",
   "metadata": {},
   "source": [
    "## The line plot\n",
    "\n",
    "Below is a simple `ax.plot()` example. By default, the result is a line chart."
   ]
  },
  {
   "cell_type": "markdown",
   "metadata": {},
   "source": [
    "`ax.plot(x,y)` draws a line between each point instead of just drawing points."
   ]
  },
  {
   "cell_type": "code",
   "execution_count": 12,
   "metadata": {},
   "outputs": [
    {
     "data": {
      "image/png": "[encoded data removed]",
      "text/plain": [
       "<Figure size 432x288 with 1 Axes>"
      ]
     },
     "metadata": {
      "needs_background": "light"
     },
     "output_type": "display_data"
    }
   ],
   "source": [
    "x_data = [1, 2, 3, 4, 5]\n",
    "y_data = [1, 2, 3, 4, 5]\n",
    "\n",
    "fig, ax = plt.subplots()\n",
    "ax.plot(x_data, y_data);"
   ]
  },
  {
   "cell_type": "markdown",
   "metadata": {},
   "source": [
    "As in the scatterplot, we are effectively plotting (1,1), (2,2), (3,3), (4,4) (5,5). \n",
    "\n",
    "But in a straight line, we can't see the points! This is one reason the lineplot is not as versatile as the scatterplot.\n",
    "\n",
    "Lets' squiggle it a little. "
   ]
  },
  {
   "cell_type": "code",
   "execution_count": 13,
   "metadata": {},
   "outputs": [
    {
     "data": {
      "image/png": "[encoded data removed]",
      "text/plain": [
       "<Figure size 432x288 with 1 Axes>"
      ]
     },
     "metadata": {
      "needs_background": "light"
     },
     "output_type": "display_data"
    }
   ],
   "source": [
    "x_squiggle = [1, 2, 3, 4.5, 5]\n",
    "y_squiggle = [1, 2.5, 3, 4, 5]\n",
    "\n",
    "fig, ax = plt.subplots()\n",
    "ax.plot(x_squiggle, y_squiggle);"
   ]
  },
  {
   "cell_type": "markdown",
   "metadata": {},
   "source": [
    "Notice that, UNLIKE the scatterplot, the pair ordering matters."
   ]
  },
  {
   "cell_type": "code",
   "execution_count": 14,
   "metadata": {
    "scrolled": true
   },
   "outputs": [
    {
     "data": {
      "image/png": "[encoded data removed]",
      "text/plain": [
       "<Figure size 432x288 with 1 Axes>"
      ]
     },
     "metadata": {
      "needs_background": "light"
     },
     "output_type": "display_data"
    }
   ],
   "source": [
    "#same points, different ordering\n",
    "x_squig_scrambled = [3, 1, 5, 2, 4.5]\n",
    "y_squig_scrambled = [3, 1, 5, 2.5, 4]\n",
    "\n",
    "fig, ax = plt.subplots()\n",
    "ax.plot(x_squig_scrambled, y_squig_scrambled);"
   ]
  },
  {
   "cell_type": "markdown",
   "metadata": {},
   "source": [
    "This is MUCH harder to use. So the order matters."
   ]
  },
  {
   "cell_type": "markdown",
   "metadata": {},
   "source": [
    "We can use '.plot' to draw lines between datapoints. This can be handy when we have more than one category of data, or a lot of it close together."
   ]
  },
  {
   "cell_type": "markdown",
   "metadata": {},
   "source": [
    "It's hard to see the pattern here:"
   ]
  },
  {
   "cell_type": "code",
   "execution_count": 15,
   "metadata": {},
   "outputs": [
    {
     "data": {
      "image/png": "[encoded data removed]",
      "text/plain": [
       "<Figure size 432x288 with 1 Axes>"
      ]
     },
     "metadata": {
      "needs_background": "light"
     },
     "output_type": "display_data"
    }
   ],
   "source": [
    "x = np.linspace(0,1000, 51)\n",
    "fig, ax = plt.subplots()\n",
    "ax.scatter(x, np.sin(x));"
   ]
  },
  {
   "cell_type": "markdown",
   "metadata": {},
   "source": [
    "Let's plot it instead"
   ]
  },
  {
   "cell_type": "code",
   "execution_count": 16,
   "metadata": {},
   "outputs": [
    {
     "data": {
      "image/png": "[encoded data removed]",
      "text/plain": [
       "<Figure size 432x288 with 1 Axes>"
      ]
     },
     "metadata": {
      "needs_background": "light"
     },
     "output_type": "display_data"
    }
   ],
   "source": [
    "x = np.linspace(0,1000, 51)\n",
    "fig, ax = plt.subplots()\n",
    "ax.plot(x, np.sin(x));"
   ]
  },
  {
   "cell_type": "markdown",
   "metadata": {},
   "source": [
    "This is why we use line plots sometimes."
   ]
  },
  {
   "cell_type": "markdown",
   "metadata": {},
   "source": [
    "### Question\n",
    "\n",
    "Can you draw a U using the 'box' data? (10 pts)\n",
    "\n",
    "Your solution will look like the following image. \n",
    "![U](https://i.ibb.co/pvYDsdP/U.png)"
   ]
  },
  {
   "cell_type": "code",
   "execution_count": 17,
   "metadata": {},
   "outputs": [
    {
     "data": {
      "image/png": "[encoded data removed]",
      "text/plain": [
       "<Figure size 432x288 with 1 Axes>"
      ]
     },
     "metadata": {
      "needs_background": "light"
     },
     "output_type": "display_data"
    }
   ],
   "source": [
    "# Your code goes here.\n",
    "x_data = [-1, -1, -1, -1, -1, -1, -1,-1 ,-1, -0.75,  -0.50, 0, 0.25, 0.50, 0.75, 1, 1, 1, 1, 1, 1, 1, 1]\n",
    "y_data = [1,0.75, 0.50, 0.25 , 0 ,-0.25 , -0.50 , -0.75 ,-1, -1, -1, -1, -1,-1,-1,-1, -0.75,  -0.50, 0, 0.25, 0.50, 0.75, 1]\n",
    "\n",
    "fig, ax = plt.subplots()\n",
    "ax.plot(x_data, y_data);\n"
   ]
  },
  {
   "cell_type": "markdown",
   "metadata": {},
   "source": [
    "<details>\n",
    "  <summary>Click to expand the solution!</summary>\n",
    "    \n",
    " ```python\n",
    "fig, ax = plt.subplots()\n",
    "ax.plot( [-1,-1,1,1],[1,-1,-1,1])\n",
    " ```\n",
    "</details>\n",
    "\n",
    "---\n"
   ]
  },
  {
   "cell_type": "markdown",
   "metadata": {},
   "source": [
    "### Question\n",
    "\n",
    "Can you draw lineplot of x_data and y_scrambled? (10 pts)\n",
    "\n",
    "Your solution will look like the following image. \n",
    "![W](https://i.ibb.co/s3yHDHv/W.png)"
   ]
  },
  {
   "cell_type": "code",
   "execution_count": 18,
   "metadata": {},
   "outputs": [
    {
     "data": {
      "image/png": "[encoded data removed]",
      "text/plain": [
       "<Figure size 432x288 with 1 Axes>"
      ]
     },
     "metadata": {
      "needs_background": "light"
     },
     "output_type": "display_data"
    }
   ],
   "source": [
    "# Your code goes here.\n",
    "# Your code goes here.\n",
    "x_data = [1,2,3,4,5]\n",
    "y_data = [3 ,1 ,5 ,2 ,4]\n",
    "\n",
    "fig, ax = plt.subplots()\n",
    "ax.plot(x_data, y_data);"
   ]
  },
  {
   "cell_type": "markdown",
   "metadata": {},
   "source": [
    "<details>\n",
    "  <summary>Click to expand the solution!</summary>\n",
    "    \n",
    " ```python\n",
    "fig, ax = plt.subplots()\n",
    "ax.plot(x_data, y_scrambled)\n",
    " ```\n",
    "</details>\n",
    "\n",
    "---\n"
   ]
  },
  {
   "cell_type": "markdown",
   "metadata": {},
   "source": [
    "## Histograms"
   ]
  },
  {
   "cell_type": "markdown",
   "metadata": {},
   "source": [
    "Histograms help us visualize a data distribution.\n",
    "\n",
    "They help us answer questions like: \"How evenly distributed is this data?\""
   ]
  },
  {
   "cell_type": "code",
   "execution_count": 19,
   "metadata": {},
   "outputs": [],
   "source": [
    "buncha_numbers = [3,4,5,8,8,9,2,6,8,4,1,2,1,3,1,3,4,5,5,6,5, 14]"
   ]
  },
  {
   "cell_type": "code",
   "execution_count": 20,
   "metadata": {},
   "outputs": [
    {
     "data": {
      "image/png": "[encoded data removed]",
      "text/plain": [
       "<Figure size 432x288 with 1 Axes>"
      ]
     },
     "metadata": {
      "needs_background": "light"
     },
     "output_type": "display_data"
    }
   ],
   "source": [
    "fig, ax = plt.subplots()\n",
    "ax.hist(buncha_numbers);"
   ]
  },
  {
   "cell_type": "markdown",
   "metadata": {},
   "source": [
    "The only danger here is the number of bins you select changes the way it looks"
   ]
  },
  {
   "cell_type": "code",
   "execution_count": 21,
   "metadata": {},
   "outputs": [
    {
     "data": {
      "image/png": "[encoded data removed]",
      "text/plain": [
       "<Figure size 432x288 with 1 Axes>"
      ]
     },
     "metadata": {
      "needs_background": "light"
     },
     "output_type": "display_data"
    }
   ],
   "source": [
    "fig, ax = plt.subplots()\n",
    "ax.hist(buncha_numbers, bins=5);"
   ]
  },
  {
   "cell_type": "code",
   "execution_count": 22,
   "metadata": {},
   "outputs": [
    {
     "data": {
      "image/png": "[encoded data removed]",
      "text/plain": [
       "<Figure size 432x288 with 1 Axes>"
      ]
     },
     "metadata": {
      "needs_background": "light"
     },
     "output_type": "display_data"
    }
   ],
   "source": [
    "fig, ax = plt.subplots()\n",
    "ax.hist(buncha_numbers, bins=15);"
   ]
  },
  {
   "cell_type": "markdown",
   "metadata": {},
   "source": [
    "But it works well when you have closer packed data"
   ]
  },
  {
   "cell_type": "code",
   "execution_count": 23,
   "metadata": {},
   "outputs": [
    {
     "data": {
      "text/plain": [
       "array([0.01711115, 0.01949206, 0.00353874, ..., 0.01299449, 0.00241483,\n",
       "       0.00505106])"
      ]
     },
     "execution_count": 23,
     "metadata": {},
     "output_type": "execute_result"
    }
   ],
   "source": [
    "beta_numbers = np.random.beta(1,100,size=10000)\n",
    "beta_numbers"
   ]
  },
  {
   "cell_type": "code",
   "execution_count": 24,
   "metadata": {},
   "outputs": [
    {
     "data": {
      "image/png": "[encoded data removed]",
      "text/plain": [
       "<Figure size 432x288 with 1 Axes>"
      ]
     },
     "metadata": {
      "needs_background": "light"
     },
     "output_type": "display_data"
    }
   ],
   "source": [
    "fig, ax = plt.subplots()\n",
    "ax.hist(beta_numbers, bins=100);"
   ]
  },
  {
   "cell_type": "markdown",
   "metadata": {},
   "source": [
    "A good go-to is to use the square root of the datapoints."
   ]
  },
  {
   "cell_type": "code",
   "execution_count": 25,
   "metadata": {},
   "outputs": [
    {
     "data": {
      "text/plain": [
       "100"
      ]
     },
     "execution_count": 25,
     "metadata": {},
     "output_type": "execute_result"
    }
   ],
   "source": [
    "sqrt_data = int(len(beta_numbers)**(1/2))\n",
    "sqrt_data"
   ]
  },
  {
   "cell_type": "markdown",
   "metadata": {},
   "source": [
    "### Question\n",
    "\n",
    "Use 'ax.hist' to plot 10**4 points in the geometric distribution, using a probability value of 0.4.\n",
    "\n",
    "Use 'np.random.[tab]' to find each distribution.\n",
    "\n",
    "Use shift-tab while the cursor is within the '()' of each distribution function (e.g. 'np.random.beta()') to quickly find the parameters."
   ]
  },
  {
   "cell_type": "code",
   "execution_count": 26,
   "metadata": {},
   "outputs": [],
   "source": [
    "# Your code goes here.\n"
   ]
  },
  {
   "cell_type": "markdown",
   "metadata": {},
   "source": [
    "<details>\n",
    "  <summary>Click to expand the solution!</summary>\n",
    "    \n",
    " ```python\n",
    "\n",
    "fig, ax = plt.subplots()\n",
    "ax.hist(np.random.geometric(.4, size=10**4));\n",
    "    \n",
    " ```\n",
    "</details>"
   ]
  },
  {
   "cell_type": "markdown",
   "metadata": {},
   "source": [
    "### Question\n",
    "\n",
    "Use 'ax.hist' to plot 10**4 points in the power distribution, using a probability value of 0.4.\n",
    "\n",
    "Use 'np.random.[tab]' to find each distribution.\n",
    "\n",
    "Use shift-tab while the cursor is within the '()' of each distribution function (e.g. 'np.random.beta()') to quickly find the parameters."
   ]
  },
  {
   "cell_type": "code",
   "execution_count": null,
   "metadata": {},
   "outputs": [],
   "source": [
    "# your code goes here.\n"
   ]
  },
  {
   "cell_type": "markdown",
   "metadata": {},
   "source": [
    "<details>\n",
    "  <summary>Click to expand the solution!</summary>\n",
    "    \n",
    " ```python\n",
    "\n",
    "fig, ax = plt.subplots()\n",
    "ax.hist(np.random.power(.4, size=10000));\n",
    "    \n",
    " ```\n",
    "</details>"
   ]
  },
  {
   "cell_type": "markdown",
   "metadata": {},
   "source": [
    "### Question\n",
    "\n",
    "Use 'ax.hist' to plot 10**4 points in the uniform distribution, using a probability value of 0.4.\n",
    "\n",
    "Use 'np.random.[tab]' to find each distribution.\n",
    "\n",
    "Use shift-tab while the cursor is within the '()' of each distribution function (e.g. 'np.random.beta()') to quickly find the parameters."
   ]
  },
  {
   "cell_type": "code",
   "execution_count": null,
   "metadata": {},
   "outputs": [],
   "source": [
    "# your code goes here.\n"
   ]
  },
  {
   "cell_type": "markdown",
   "metadata": {},
   "source": [
    "<details>\n",
    "  <summary>Click to expand the solution!</summary>\n",
    "    \n",
    " ```python\n",
    "\n",
    "fig, ax = plt.subplots()\n",
    "ax.hist(np.random.uniform(.4, size=10**4));\n",
    "    \n",
    " ```\n",
    "</details>"
   ]
  },
  {
   "cell_type": "markdown",
   "metadata": {},
   "source": [
    "### Question\n",
    "\n",
    "Use 'ax.hist' to plot 10**4 points in the exponential distribution, using a probability value of 0.4.\n",
    "\n",
    "Use 'np.random.[tab]' to find each distribution.\n",
    "\n",
    "Use shift-tab while the cursor is within the '()' of each distribution function (e.g. 'np.random.beta()') to quickly find the parameters."
   ]
  },
  {
   "cell_type": "code",
   "execution_count": null,
   "metadata": {},
   "outputs": [],
   "source": [
    "# your code goes here.\n"
   ]
  },
  {
   "cell_type": "markdown",
   "metadata": {},
   "source": [
    "<details>\n",
    "  <summary>Click to expand the solution!</summary>\n",
    "    \n",
    " ```python\n",
    "\n",
    "fig, ax = plt.subplots()\n",
    "ax.hist(np.random.exponential(.4, size=10**4));\n",
    "    \n",
    " ```\n",
    "</details>"
   ]
  },
  {
   "cell_type": "markdown",
   "metadata": {},
   "source": [
    "## Bar Graphs"
   ]
  },
  {
   "cell_type": "markdown",
   "metadata": {},
   "source": [
    "Bar graphs visualize the intersection of categorical and numerical data."
   ]
  },
  {
   "cell_type": "code",
   "execution_count": null,
   "metadata": {},
   "outputs": [],
   "source": [
    "fig, ax = plt.subplots()\n",
    "ax.bar(['Tomas', \"Henry\",\"Carol\", \"Frank\"], [6,4,3,6]);"
   ]
  },
  {
   "cell_type": "markdown",
   "metadata": {},
   "source": [
    "Horizontal bars are less common, but tend to use space better."
   ]
  },
  {
   "cell_type": "code",
   "execution_count": null,
   "metadata": {},
   "outputs": [],
   "source": [
    "fig, ax = plt.subplots()\n",
    "ax.barh(['Tomas', \"Henry\",\"Carol\", \"Frank\"],[6,4,3,6]);"
   ]
  },
  {
   "cell_type": "markdown",
   "metadata": {},
   "source": [
    "## Graph's Anatomy"
   ]
  },
  {
   "cell_type": "markdown",
   "metadata": {},
   "source": [
    "So far we've been making our figures like this\n"
   ]
  },
  {
   "cell_type": "code",
   "execution_count": null,
   "metadata": {
    "scrolled": true
   },
   "outputs": [],
   "source": [
    "fig, ax = plt.subplots()"
   ]
  },
  {
   "cell_type": "markdown",
   "metadata": {},
   "source": [
    "But we can also make a figure with 3 subplots."
   ]
  },
  {
   "cell_type": "code",
   "execution_count": null,
   "metadata": {
    "scrolled": false
   },
   "outputs": [],
   "source": [
    "fig, axs = plt.subplots(3)"
   ]
  },
  {
   "cell_type": "markdown",
   "metadata": {},
   "source": [
    "We now have 'saved' two objects we now have to manupulate the graph. 'Figure' and 'axis'.`\n",
    "\n",
    "![Matplotlib diagram](http://matplotlib.org/_images/fig_map.png)\n",
    "\n",
    "'Figure' holds all the 'axes' inside of it.\n",
    "\n",
    "'axes' is the plural of 'axis'. So each 'axes' is two 'axis'. \n",
    "\n",
    "_axs_ stands for _axes'_. An _array_ of axes."
   ]
  },
  {
   "cell_type": "code",
   "execution_count": null,
   "metadata": {},
   "outputs": [],
   "source": [
    "axs"
   ]
  },
  {
   "cell_type": "markdown",
   "metadata": {},
   "source": [
    "We will put the plotting on the axis. So we must select the first item of the array"
   ]
  },
  {
   "cell_type": "code",
   "execution_count": null,
   "metadata": {},
   "outputs": [],
   "source": [
    "axs[0]"
   ]
  },
  {
   "cell_type": "code",
   "execution_count": null,
   "metadata": {},
   "outputs": [],
   "source": [
    "axs[0].scatter([1,2,3,4,5],[1,2,3,4,5])"
   ]
  },
  {
   "cell_type": "markdown",
   "metadata": {},
   "source": [
    "Ok, we made the change, now we need to 'print' the figure again."
   ]
  },
  {
   "cell_type": "code",
   "execution_count": null,
   "metadata": {},
   "outputs": [],
   "source": [
    "fig"
   ]
  },
  {
   "cell_type": "markdown",
   "metadata": {},
   "source": [
    "We've now plotted on the first axes!"
   ]
  },
  {
   "cell_type": "markdown",
   "metadata": {},
   "source": [
    "Now, what can we do with the figure?"
   ]
  },
  {
   "cell_type": "markdown",
   "metadata": {},
   "source": [
    "Well, We can change the layout to not overlap so badly"
   ]
  },
  {
   "cell_type": "code",
   "execution_count": null,
   "metadata": {},
   "outputs": [],
   "source": [
    "fig.tight_layout()\n",
    "fig"
   ]
  },
  {
   "cell_type": "markdown",
   "metadata": {},
   "source": [
    "Or set the size."
   ]
  },
  {
   "cell_type": "code",
   "execution_count": null,
   "metadata": {},
   "outputs": [],
   "source": [
    "fig.set_size_inches(1,4)\n",
    "fig"
   ]
  },
  {
   "cell_type": "markdown",
   "metadata": {},
   "source": [
    "### Question\n",
    "\n",
    "Can you draw 'scrambled' and 'box' on two axes on one figure? Resize it to make it look square. (10 pts)\n",
    "\n",
    "Your solution will look like the following image. \n",
    "![scrambled-box](https://i.ibb.co/CHgdqqS/scrambled-box.png)\n",
    "\n",
    "(it's really tempting to copy-paste here, but please don't! Students who copy-paste don't learn the code!)"
   ]
  },
  {
   "cell_type": "code",
   "execution_count": null,
   "metadata": {},
   "outputs": [],
   "source": [
    "# Your code goes here.\n"
   ]
  },
  {
   "cell_type": "markdown",
   "metadata": {},
   "source": [
    "<details>\n",
    "  <summary>Click to expand the solution!</summary>\n",
    "    \n",
    " ```python\n",
    "\n",
    "fig, axs = plt.subplots(2)\n",
    "axs[0].scatter(x_scrambled,y_data)\n",
    "axs[1].scatter([-1,-1,1,1],[-1,1,-1,1])\n",
    "fig.set_size_inches(1,2)\n",
    " ```\n",
    "</details>\n",
    "\n",
    "---\n"
   ]
  },
  {
   "cell_type": "markdown",
   "metadata": {},
   "source": [
    "### Question\n",
    "\n",
    "Can you draw 'box', 'diagonal', and 'scrambled' on three axes? Resize it to make each axes look square. (10 pts)\n",
    "\n",
    "Your solution will look like the following image. \n",
    "![3_plots](https://i.ibb.co/PD7s9yy/3-plots.png)"
   ]
  },
  {
   "cell_type": "code",
   "execution_count": null,
   "metadata": {},
   "outputs": [],
   "source": [
    "# Your code goes here."
   ]
  },
  {
   "cell_type": "markdown",
   "metadata": {},
   "source": [
    "<details>\n",
    "  <summary>Click to expand the solution!</summary>\n",
    "    \n",
    " ```python\n",
    "\n",
    "fig, axs = plt.subplots(3)\n",
    "axs[0].scatter([-1,-1,1,1],[-1,1,-1,1])\n",
    "axs[1].scatter(x_data, [5,4,3,2,1])\n",
    "axs[2].scatter(x_scrambled,y_data)\n",
    "fig.set_size_inches(1,3)\n",
    "\n",
    " ```\n",
    "</details>\n",
    "\n",
    "---\n"
   ]
  },
  {
   "cell_type": "markdown",
   "metadata": {
    "hideCode": false,
    "hidePrompt": false
   },
   "source": [
    "## Titles"
   ]
  },
  {
   "cell_type": "markdown",
   "metadata": {},
   "source": [
    "Every graph should have labeled axis. Without it __it has no value__ out in the world. \n",
    "\n",
    "(It might _also_ require a title.)\n",
    "\n",
    "For example, what does this graph tell you?"
   ]
  },
  {
   "cell_type": "code",
   "execution_count": null,
   "metadata": {},
   "outputs": [],
   "source": [
    "# WHAT IS THIS???\n",
    "data1 = [1800,1700,1760,1400,1510,1610,1710]\n",
    "data2 = [99,95,80,83,75,50,93]\n",
    "\n",
    "fig, ax = plt.subplots()\n",
    "ax.scatter(data1,data2);"
   ]
  },
  {
   "cell_type": "markdown",
   "metadata": {},
   "source": [
    "NOTHING! Are these years? Is that the percent of countries' income?"
   ]
  },
  {
   "cell_type": "markdown",
   "metadata": {},
   "source": [
    "Let's get some minimal labels on here:"
   ]
  },
  {
   "cell_type": "code",
   "execution_count": null,
   "metadata": {},
   "outputs": [],
   "source": [
    "fig, ax = plt.subplots()\n",
    "ax.scatter(data1,data2)\n",
    "ax.set_title('Students')\n",
    "ax.set_xlabel('SAT')\n",
    "ax.set_ylabel('Fall 2020 grade');"
   ]
  },
  {
   "cell_type": "markdown",
   "metadata": {},
   "source": [
    "Oh."
   ]
  },
  {
   "cell_type": "markdown",
   "metadata": {},
   "source": [
    "### Question\n",
    "\n",
    "Again, can you draw 'scrambled' and 'box' on two axes on one figure? Resize it to make it look square. (10 pts)\n",
    "\n",
    "![scrambled-box-titles](https://i.ibb.co/S7CCC1L/scrambled-box-titles.png)\n",
    "\n",
    "(try and retype it from memory)\n",
    "\n",
    "Title each one."
   ]
  },
  {
   "cell_type": "code",
   "execution_count": null,
   "metadata": {},
   "outputs": [],
   "source": [
    "# Your code goes here.\n"
   ]
  },
  {
   "cell_type": "markdown",
   "metadata": {},
   "source": [
    "<details>\n",
    "  <summary>Click to expand the solution!</summary>\n",
    "    \n",
    " ```python\n",
    "\n",
    "fig, axs = plt.subplots(2)\n",
    "axs[0].scatter(x_scrambled,y_data)\n",
    "axs[0].set_title('Scrambled')\n",
    "axs[1].scatter([-1,-1,1,1],[-1,1,-1,1])\n",
    "axs[1].set_title('Box')\n",
    "fig.set_size_inches(2,4)\n",
    "fig.tight_layout()\n",
    "\n",
    " ```\n",
    "</details>\n",
    "\n",
    "---\n"
   ]
  },
  {
   "cell_type": "markdown",
   "metadata": {},
   "source": [
    "### Question\n",
    "\n",
    "Can you draw 'box', 'diagonal', and 'scrambled' on three axes? Resize it to make each axes look square. (10 pts)\n",
    "\n",
    "Your solution will look like the following image. \n",
    "![3_plots_labeled](https://i.ibb.co/y0fr3xM/3-graphs-labeled.png)"
   ]
  },
  {
   "cell_type": "code",
   "execution_count": null,
   "metadata": {},
   "outputs": [],
   "source": [
    "# Your code goes here.\n"
   ]
  },
  {
   "cell_type": "markdown",
   "metadata": {},
   "source": [
    "<details>\n",
    "  <summary>Click to expand the solution!</summary>\n",
    "    \n",
    " ```python\n",
    "\n",
    "fig, axs = plt.subplots(3)\n",
    "axs[0].scatter([-1,-1,1,1],[-1,1,-1,1])\n",
    "axs[0].set_title('box')\n",
    "axs[1].scatter(x_data, [5,4,3,2,1])\n",
    "axs[1].set_title('diagonal')\n",
    "axs[2].scatter(x_scrambled,y_data)\n",
    "axs[2].set_title('scrambled')\n",
    "fig.set_size_inches(2,6)\n",
    "fig.tight_layout()\n",
    "\n",
    " ```\n",
    "</details>\n",
    "\n",
    "---\n"
   ]
  },
  {
   "cell_type": "markdown",
   "metadata": {},
   "source": [
    "## Using the ax"
   ]
  },
  {
   "cell_type": "markdown",
   "metadata": {},
   "source": [
    "We can also plot more than one graph onto a single axis!"
   ]
  },
  {
   "cell_type": "code",
   "execution_count": null,
   "metadata": {},
   "outputs": [],
   "source": [
    "fig, ax = plt.subplots()\n",
    "ax.hist(np.random.power(.4,size=10000))\n",
    "ax.hist(np.random.uniform(size=10000));"
   ]
  },
  {
   "cell_type": "markdown",
   "metadata": {},
   "source": [
    "The second plot draws directly on top of the previous plots. So it helps to make it _partially clear_. This clearness is described in a parameter called 'alpha'. \n",
    "\n",
    "0 is clear, 1 is solid."
   ]
  },
  {
   "cell_type": "code",
   "execution_count": null,
   "metadata": {},
   "outputs": [],
   "source": [
    "fig, ax = plt.subplots()\n",
    "ax.hist(np.random.power(.4,size=10000))\n",
    "ax.hist(np.random.uniform(size=10000), alpha=.7);"
   ]
  },
  {
   "cell_type": "markdown",
   "metadata": {},
   "source": [
    "### Question\n",
    "\n",
    "Make a lineplot of x_data and y_scrambled, AND scatterplot of x_data and y_data.\n",
    "\n",
    "Title it 'Lines and Scrambles'."
   ]
  },
  {
   "cell_type": "code",
   "execution_count": null,
   "metadata": {},
   "outputs": [],
   "source": [
    "# your code goes here.\n"
   ]
  },
  {
   "cell_type": "markdown",
   "metadata": {},
   "source": [
    "<details>\n",
    "  <summary>Click to expand the solution!</summary>\n",
    "    \n",
    " ```python\n",
    "\n",
    "fig, ax = plt.subplots()\n",
    "ax.scatter(x_data, y_data)\n",
    "ax.plot(x_data, y_scrambled)\n",
    "ax.set_title('Lines and Scrambles')\n",
    "    \n",
    " ```\n",
    "</details>"
   ]
  },
  {
   "cell_type": "markdown",
   "metadata": {},
   "source": [
    "### Question\n",
    "\n",
    "On one axes, make a histogram of the exponential (scale = .7) and geometric (p=.4) distributions.  \n",
    "![both_hist](https://i.ibb.co/7N47Vjc/both-hist.png)"
   ]
  },
  {
   "cell_type": "code",
   "execution_count": null,
   "metadata": {},
   "outputs": [],
   "source": [
    "# your code goes here.\n"
   ]
  },
  {
   "cell_type": "markdown",
   "metadata": {},
   "source": [
    "<details>\n",
    "  <summary>Click to expand the solution!</summary>\n",
    "    \n",
    " ```python\n",
    "\n",
    "fig, ax = plt.subplots()\n",
    "ax.hist(np.random.exponential(.7,size=10000))\n",
    "ax.hist(np.random.geometric(.4, size=10000), alpha=.7, bins=70)\n",
    "    \n",
    " ```\n",
    "</details>"
   ]
  },
  {
   "cell_type": "markdown",
   "metadata": {},
   "source": [
    "## Legends and Labels"
   ]
  },
  {
   "cell_type": "markdown",
   "metadata": {},
   "source": [
    "But which data is which? Sometimes we need to know. For that we use Legends and Labels.\n",
    "\n",
    "Legends label more than one dataset on a single plot."
   ]
  },
  {
   "cell_type": "code",
   "execution_count": null,
   "metadata": {},
   "outputs": [],
   "source": [
    "fig, ax = plt.subplots()\n",
    "ax.hist(np.random.power(.4,size=10000), label='power')\n",
    "ax.hist(np.random.uniform(size=10000), alpha=.7, label='uniform');\n",
    "ax.legend()"
   ]
  },
  {
   "cell_type": "markdown",
   "metadata": {},
   "source": [
    "## Scatter Styling"
   ]
  },
  {
   "cell_type": "markdown",
   "metadata": {},
   "source": [
    "Sometimes we need to add styling to our graphs. Let's work on scatterplots again."
   ]
  },
  {
   "cell_type": "code",
   "execution_count": null,
   "metadata": {},
   "outputs": [],
   "source": [
    "x_norm = np.random.normal(size=1000)\n",
    "y_norm = np.random.normal(size=1000)\n",
    "x_norm[0]= 10\n",
    "y_norm[0] = 10\n",
    "\n",
    "x_norm2 = np.random.normal(1, size=1000)\n",
    "y_norm2 = np.random.normal(size=1000)\n",
    "x_norm2[0]= 10.3\n",
    "y_norm2[0] = 10.3\n",
    "\n",
    "fig, ax = plt.subplots()\n",
    "ax.scatter(x_norm, y_norm)\n",
    "ax.scatter(x_norm2, y_norm2)"
   ]
  },
  {
   "cell_type": "markdown",
   "metadata": {},
   "source": [
    "It's hard to see what's going on in the corner there.\n",
    "\n",
    "If only those points were smaller..."
   ]
  },
  {
   "cell_type": "code",
   "execution_count": null,
   "metadata": {},
   "outputs": [],
   "source": [
    "fig, ax = plt.subplots()\n",
    "ax.scatter(x_norm, y_norm, s=1)\n",
    "ax.scatter(x_norm2, y_norm2, s=1)"
   ]
  },
  {
   "cell_type": "markdown",
   "metadata": {},
   "source": [
    "Thats better."
   ]
  },
  {
   "cell_type": "markdown",
   "metadata": {},
   "source": [
    "Let's do one more."
   ]
  },
  {
   "cell_type": "code",
   "execution_count": null,
   "metadata": {},
   "outputs": [],
   "source": [
    "x_sin = np.linspace(-np.pi, np.pi, 20)\n",
    "y_sin = np.sin(x_sin)\n",
    "\n",
    "fig, ax = plt.subplots()\n",
    "ax.scatter(x_sin, y_sin)\n",
    "ax.set_title(\"Sin(x) Curve\")\n",
    "ax.set_xlabel('x')\n",
    "ax.set_ylabel('sin(x)');"
   ]
  },
  {
   "cell_type": "markdown",
   "metadata": {},
   "source": [
    "Beyond  **`s`ize**, other properties under your control are, for example, **`c`olor**, and **`marker` style**."
   ]
  },
  {
   "cell_type": "code",
   "execution_count": null,
   "metadata": {},
   "outputs": [],
   "source": [
    "fig, ax = plt.subplots()\n",
    "ax.scatter(x_sin, y_sin, \n",
    "            color='b',\n",
    "            s=300, \n",
    "            marker='^')\n",
    "ax.set_title(\"Sin(x) Curve\")\n",
    "ax.set_xlabel('x')\n",
    "ax.set_ylabel('sin(x)');"
   ]
  },
  {
   "cell_type": "markdown",
   "metadata": {},
   "source": [
    "### Question\n",
    "Can you plot with color `red`, size `500` and marker \"+\"? (10 pts)\n",
    "\n",
    "(This is when copy-past-ing is most tempting. Please don't do it.)\n",
    "\n",
    "![soln_style_plot](https://i.ibb.co/mRySrtx/soln-style-plot.png)"
   ]
  },
  {
   "cell_type": "code",
   "execution_count": null,
   "metadata": {},
   "outputs": [],
   "source": [
    "# Your code goes here.\n"
   ]
  },
  {
   "cell_type": "markdown",
   "metadata": {},
   "source": [
    "<details>\n",
    "    <summary>Click to expand the solution!</summary>\n",
    "\n",
    "```python\n",
    "gif, ax = plt.subplots()\n",
    "ax.scatter(x_sin, y_sin, \n",
    "        color='r',\n",
    "        s=500, \n",
    "        marker='+')\n",
    "\n",
    "```\n",
    "    \n",
    "</details>"
   ]
  },
  {
   "cell_type": "markdown",
   "metadata": {},
   "source": [
    "### Question\n",
    "Can you make a scatterplot of unif_x, unif_y so that it's not a blob?\n",
    "\n",
    "This is hard to read:\n",
    "![uniform_big](https://i.ibb.co/wrkGd8g/uniform-big.png)\n",
    "\n",
    "This is better:\n",
    "![uniform_small](https://i.ibb.co/k3JyWy1/uniform-small.png)"
   ]
  },
  {
   "cell_type": "code",
   "execution_count": null,
   "metadata": {},
   "outputs": [],
   "source": [
    "unif_x = np.random.uniform(size=10000)\n",
    "unif_y = np.random.uniform(size=10000)"
   ]
  },
  {
   "cell_type": "code",
   "execution_count": null,
   "metadata": {},
   "outputs": [],
   "source": [
    "# Your code goes here.\n"
   ]
  },
  {
   "cell_type": "markdown",
   "metadata": {},
   "source": [
    "<details>\n",
    "    <summary>Click to expand the solution!</summary>\n",
    "\n",
    "```python\n",
    "\n",
    "plt.scatter(unif_x, unif_y, s=1)\n",
    "\n",
    "```\n",
    "    \n",
    "</details>"
   ]
  },
  {
   "cell_type": "markdown",
   "metadata": {},
   "source": [
    "### Question\n",
    "Take a look at the documentation of [plt.scatter()](https://matplotlib.org/3.3.3/api/_as_gen/matplotlib.pyplot.scatter.html). Can you use the following list of colors to plot a colorful scatter plot?\n",
    "\n",
    "![so_pretty](https://i.ibb.co/6sv60m0/so-pretty.png)\n"
   ]
  },
  {
   "cell_type": "code",
   "execution_count": null,
   "metadata": {},
   "outputs": [],
   "source": [
    "c = ['#1f77b4', '#ff7f0e', '#2ca02c', '#d62728', \n",
    "     '#9467bd', '#8c564b', '#e377c2', '#7f7f7f', \n",
    "     '#bcbd22', '#17becf']\n",
    "colors = c + c"
   ]
  },
  {
   "cell_type": "code",
   "execution_count": null,
   "metadata": {},
   "outputs": [],
   "source": [
    "# Your code goes here:\n",
    "\n"
   ]
  },
  {
   "cell_type": "markdown",
   "metadata": {},
   "source": [
    "<details>\n",
    "  <summary>Click to expand the solution!</summary>\n",
    "    \n",
    " ```python\n",
    "plt.scatter(x_sin, y_sin, \n",
    "            color=colors,\n",
    "            s=100, \n",
    "            marker='+')\n",
    "plt.title(\"so pretty\")\n",
    "plt.xlabel('x axis')\n",
    "plt.ylabel('vert')\n",
    "    \n",
    " ```\n",
    "</details>"
   ]
  },
  {
   "cell_type": "markdown",
   "metadata": {},
   "source": [
    "## Unleash the full power of `subplots()`!"
   ]
  },
  {
   "cell_type": "markdown",
   "metadata": {
    "hideCode": false,
    "hidePrompt": false
   },
   "source": [
    "`plt.subplots(n,m)` specifies a grid with `n` rows and `m` columns, with an axes object in each grid square. These axes objects are returned in a numpy array. We now create a 2-row, 4-column layouts.\n",
    "\n",
    "Which we call 'axs'. Meaning 'an array of axis'. To keep track if it's an array or an axis object."
   ]
  },
  {
   "cell_type": "code",
   "execution_count": null,
   "metadata": {
    "hideCode": false,
    "hidePrompt": false,
    "scrolled": true
   },
   "outputs": [],
   "source": [
    "fig, axs = plt.subplots(2,4)\n",
    "fig.tight_layout()"
   ]
  },
  {
   "cell_type": "markdown",
   "metadata": {},
   "source": [
    "Check the type of the `axs` object."
   ]
  },
  {
   "cell_type": "markdown",
   "metadata": {},
   "source": [
    "You can index it and see the type of each element in the 2 by 4 array."
   ]
  },
  {
   "cell_type": "code",
   "execution_count": null,
   "metadata": {},
   "outputs": [],
   "source": [
    "axs[0,2]"
   ]
  },
  {
   "cell_type": "markdown",
   "metadata": {},
   "source": [
    "So to plot on one of those axes, I can index into the array of axes objects, then call all the plotting methods I want!"
   ]
  },
  {
   "cell_type": "code",
   "execution_count": null,
   "metadata": {},
   "outputs": [],
   "source": [
    "fig, axs = plt.subplots(2,4)\n",
    "axs[0,2].plot(x_sin,y_sin)\n",
    "fig.tight_layout()"
   ]
  },
  {
   "cell_type": "markdown",
   "metadata": {},
   "source": [
    "#### Control figure size\n",
    "Note figure size can also be controlled with the `figsize` keyword of `plt.subplots()`."
   ]
  },
  {
   "cell_type": "code",
   "execution_count": null,
   "metadata": {
    "scrolled": true
   },
   "outputs": [],
   "source": [
    "fig, axs = plt.subplots(2,4, figsize=(10,4))\n",
    "\n",
    "axs[0,2].plot(x_sin,y_sin)\n",
    "axs[0,2].set_title('cool')\n",
    "\n",
    "fig.tight_layout()"
   ]
  },
  {
   "cell_type": "markdown",
   "metadata": {},
   "source": [
    "Note that we consistantly use `ax` to name a single axes object and `axs` to name an array of axes objects. This is a useful distinction."
   ]
  },
  {
   "cell_type": "markdown",
   "metadata": {},
   "source": [
    "#### Iterating over axes in a subplot"
   ]
  },
  {
   "cell_type": "markdown",
   "metadata": {
    "hideCode": false,
    "hidePrompt": false
   },
   "source": [
    "Making a big grid of axes and manually indexing into each one to make a plot sounds terrible. Let's loop over this collection of axes instead.\n",
    "\n",
    "We can't just type `for ax in axs`, however, because iterating over an `n` by `m` numpy array returns one _row_ at a time and NOT one _element_ at a time. So instead we use the `.flatten()` method to squish a numpy array into a one-dimensional array of its elements."
   ]
  },
  {
   "cell_type": "code",
   "execution_count": null,
   "metadata": {},
   "outputs": [],
   "source": [
    "axs.flatten().shape"
   ]
  },
  {
   "cell_type": "markdown",
   "metadata": {},
   "source": [
    "Note that the scales on the y-axis are different."
   ]
  },
  {
   "cell_type": "code",
   "execution_count": null,
   "metadata": {
    "scrolled": true
   },
   "outputs": [],
   "source": [
    "fig, axs = plt.subplots(2,4, figsize=(10,4))\n",
    "\n",
    "for i, ax in enumerate(axs.flatten()):\n",
    "    ax.scatter(x_sin,y_sin*(i+1))\n",
    "    ax.set_title('Plot number {}'.format(i))\n",
    "\n",
    "fig.tight_layout()"
   ]
  },
  {
   "cell_type": "markdown",
   "metadata": {},
   "source": [
    "### Question\n",
    "\n",
    "Can you create a '4 subplots' object with size `(4,)` and draw a subplot on each. They should be, in order, 'ascending line', 'scrambled', 'square', and 'descending line'.\n",
    "\n",
    "Your result should look like the following.\n",
    "\n",
    "![all_the_graphs](https://i.ibb.co/VVxMmtm/all-the-graphs.png)"
   ]
  },
  {
   "cell_type": "code",
   "execution_count": null,
   "metadata": {},
   "outputs": [],
   "source": [
    "# Your code goes here.\n"
   ]
  },
  {
   "cell_type": "markdown",
   "metadata": {},
   "source": [
    "<details>\n",
    "  <summary>Click to expand the solution!</summary>\n",
    "    \n",
    " ```python\n",
    "fig, axs = plt.subplots(4, figsize=[2,5])\n",
    "axs[0].scatter(x_data, y_data)\n",
    "axs[1].scatter(x_scrambled, y_data)\n",
    "axs[2].scatter([1,1,-1,-1],[1,-1,-1,1])\n",
    "axs[3].scatter([1,2,3,4,5],[5,4,3,2,1])\n",
    " ```\n",
    "</details>\n",
    "\n"
   ]
  },
  {
   "cell_type": "markdown",
   "metadata": {},
   "source": [
    "### Question\n",
    "Make a scatterplot of the latitude/longitude (lat/long) of the bikeshare stations in 'data/'. Use 201402_station_data_v2.\n",
    "![bike_locations](https://i.ibb.co/VCx2f9V/bike-locations.png)"
   ]
  },
  {
   "cell_type": "code",
   "execution_count": null,
   "metadata": {},
   "outputs": [],
   "source": [
    "# Your code here.\n"
   ]
  },
  {
   "cell_type": "markdown",
   "metadata": {},
   "source": [
    "<details>\n",
    "  <summary>Click to expand the solution!</summary>\n",
    "   \n",
    "```python\n",
    "ls data/bay_area_bikeshare/ # to find the data\n",
    "\n",
    "bikes = pd.read_csv('data/bay_area_bikeshare/201402_station_data_v2.csv')\n",
    "bikes['installation'] = pd.to_datetime(bikes['installation'])\n",
    "bikes = bikes.set_index('installation')\n",
    "plt.scatter(bikes.long, bikes.lat)\n",
    "```\n",
    "    \n",
    "</details>"
   ]
  },
  {
   "cell_type": "markdown",
   "metadata": {},
   "source": [
    "### Question \n",
    "Can you create a **3-by-3**, subplots object with size `(6,6)` and draw the sin plot with different colors? Note that you already have a list of colors defined as the variable `colors` in this Python session.\n",
    "\n",
    "Your result should look like the following.\n",
    "\n",
    "![colorful_3_by_3](https://i.ibb.co/pftqhS1/square.png)"
   ]
  },
  {
   "cell_type": "code",
   "execution_count": null,
   "metadata": {},
   "outputs": [],
   "source": [
    "# Your code goes here.\n"
   ]
  },
  {
   "cell_type": "markdown",
   "metadata": {},
   "source": [
    "<details>\n",
    "  <summary>Click to expand the solution!</summary>\n",
    "    \n",
    " ```python\n",
    "fig, axs = plt.subplots(3,3, figsize=(6,6))\n",
    "\n",
    "for i, ax in enumerate(axs.flatten()):\n",
    "    ax.scatter(x_sin,y_sin*(i+1), c=colors[i])\n",
    "    ax.set_title('Plot number {}'.format(i))\n",
    "\n",
    "fig.tight_layout()\n",
    " ```\n",
    "</details>\n",
    "\n"
   ]
  },
  {
   "cell_type": "markdown",
   "metadata": {},
   "source": [
    "## plt.plot"
   ]
  },
  {
   "cell_type": "markdown",
   "metadata": {},
   "source": [
    "We have a confession. There's a faster way to plot."
   ]
  },
  {
   "cell_type": "code",
   "execution_count": null,
   "metadata": {},
   "outputs": [],
   "source": [
    "plt.scatter(x_data, y_data)"
   ]
  },
  {
   "cell_type": "markdown",
   "metadata": {},
   "source": [
    "And MANY online examples will use this method to plot."
   ]
  },
  {
   "cell_type": "code",
   "execution_count": null,
   "metadata": {},
   "outputs": [],
   "source": [
    "#this is OK\n",
    "\n",
    "plt.scatter(x_data, y_data)\n",
    "plt.title('Line')\n",
    "plt.xlabel('x')\n",
    "plt.ylabel('y')"
   ]
  },
  {
   "cell_type": "markdown",
   "metadata": {},
   "source": [
    "HOWEVER, this method is immediately regretted the moment you add more complexity than titles.\n",
    "\n",
    "This is because it alters your figs and axes invisibly!"
   ]
  },
  {
   "cell_type": "code",
   "execution_count": null,
   "metadata": {
    "hideCode": false,
    "hidePrompt": false
   },
   "outputs": [],
   "source": [
    "#THIS IS HARD TO READ, DON'T BOTHER\n",
    "\n",
    "fig = plt.figure()\n",
    "\n",
    "ax1 = fig.add_subplot(1,2,1)\n",
    "plt.title('Sin and Sin**2')\n",
    "\n",
    "fig1 = plt.gca()\n",
    "\n",
    "ax2 = fig.add_subplot(1,2,2)\n",
    "plt.title('straight line')\n",
    "\n",
    "fig2 = plt.gca()\n",
    "\n",
    "ax1_stuff = ax1.plot(x_sin, y_sin, color='m', alpha=.25)\n",
    "\n",
    "ax1.plot(x_sin, y_sin**2)\n",
    "\n",
    "# ax1_stuff[0].set_alpha(.25) # alternative to using the alpha keyword when calling ax.plot\n",
    "\n",
    "ax2.plot(x_sin, x_sin)\n",
    "\n",
    "line = ax1_stuff[0]\n",
    "line.set_alpha(.55)\n",
    "\n",
    "fig.suptitle('Two lines', fontsize=44, y=1.1)\n",
    "fig.tight_layout()"
   ]
  },
  {
   "cell_type": "markdown",
   "metadata": {},
   "source": [
    "For this reason we recommend switching to the `fig, axs = plt.subplots()` pattern whenever possible."
   ]
  },
  {
   "cell_type": "markdown",
   "metadata": {
    "hideCode": false,
    "hidePrompt": false
   },
   "source": [
    "## The Object Oriented interface"
   ]
  },
  {
   "cell_type": "markdown",
   "metadata": {
    "hideCode": false,
    "hidePrompt": false
   },
   "source": [
    "In an effort to make easy things easy, and hard things possible, matplotlib has a number of different levels at which it can be accessed. They are:\n",
    "\n",
    "| Level | Control | Complexity |\n",
    "|-------|---------|------------|\n",
    "| plt | minimal, fast interface for plots, annotations | low |\n",
    "| fig, ax | fine-grained control over figure, axes, etc. | medium |\n",
    "| pure OO interface | Embed plots in GUI applications | too high |"
   ]
  },
  {
   "cell_type": "markdown",
   "metadata": {
    "hideCode": false,
    "hidePrompt": false
   },
   "source": [
    "## Plotting with Pandas"
   ]
  },
  {
   "cell_type": "markdown",
   "metadata": {},
   "source": [
    "Pandas has its own convenient methods for hooking into matplotlib. \n",
    "\n",
    "(remember, a method is like a function hidden inside each object. In this case, every dataframe and series!)\n",
    "\n",
    "((Once again, pandas has made ANOTHER way of doing the same thing. But it does save code!))"
   ]
  },
  {
   "cell_type": "code",
   "execution_count": null,
   "metadata": {
    "hideCode": false,
    "hidePrompt": false
   },
   "outputs": [],
   "source": [
    "import pandas as pd"
   ]
  },
  {
   "cell_type": "markdown",
   "metadata": {},
   "source": [
    "Let's load in some data to use. Something we might remember?"
   ]
  },
  {
   "cell_type": "code",
   "execution_count": null,
   "metadata": {},
   "outputs": [],
   "source": [
    "chess = pd.read_csv('data/chess_games.csv')\n",
    "chess['created_at'] = pd.to_datetime(chess['created_at'], unit='ms')\n",
    "chess['last_move_at'] = pd.to_datetime(chess['last_move_at'], unit='ms')\n",
    "chess = chess.set_index('created_at')\n",
    "chess.head().T"
   ]
  },
  {
   "cell_type": "markdown",
   "metadata": {},
   "source": [
    "With a Series, you can call '.plot()' and the x axis will automatically be the index."
   ]
  },
  {
   "cell_type": "code",
   "execution_count": null,
   "metadata": {},
   "outputs": [],
   "source": [
    "chess['turns'].plot();"
   ]
  },
  {
   "cell_type": "markdown",
   "metadata": {},
   "source": [
    "The method outputs an 'ax' we can still work with"
   ]
  },
  {
   "cell_type": "code",
   "execution_count": null,
   "metadata": {},
   "outputs": [],
   "source": [
    "ax = chess['turns'].plot()\n",
    "ax.set_title('Turns per game');"
   ]
  },
  {
   "cell_type": "markdown",
   "metadata": {},
   "source": [
    "Lets see some more!"
   ]
  },
  {
   "cell_type": "markdown",
   "metadata": {},
   "source": [
    "Wow, labels come with it."
   ]
  },
  {
   "cell_type": "markdown",
   "metadata": {},
   "source": [
    "`.value_counts()` outputs a series as well"
   ]
  },
  {
   "cell_type": "code",
   "execution_count": null,
   "metadata": {},
   "outputs": [],
   "source": [
    "ax = chess['winner'].value_counts().plot.barh()\n",
    "ax.set_title('Number of wins')"
   ]
  },
  {
   "cell_type": "markdown",
   "metadata": {},
   "source": [
    "The dataframe itself also has plotting methods."
   ]
  },
  {
   "cell_type": "code",
   "execution_count": null,
   "metadata": {
    "scrolled": true
   },
   "outputs": [],
   "source": [
    "ax = chess.plot.scatter('white_rating', 'black_rating')"
   ]
  },
  {
   "cell_type": "code",
   "execution_count": null,
   "metadata": {},
   "outputs": [],
   "source": [
    "chess.plot.box()"
   ]
  },
  {
   "cell_type": "markdown",
   "metadata": {},
   "source": [
    "### Question\n",
    "\n",
    "Open 201402_station_data_v2.csv in '/data':\n",
    "\n",
    "Look up a random lat/long in Google Maps and see a bike station. (It's always a good instinct to 'sanity check' your data if you can!)"
   ]
  },
  {
   "cell_type": "code",
   "execution_count": null,
   "metadata": {},
   "outputs": [],
   "source": [
    "# Your code here.\n"
   ]
  },
  {
   "cell_type": "markdown",
   "metadata": {},
   "source": [
    "<details>\n",
    "  <summary>Click to expand the solution!</summary>\n",
    "    \n",
    "```python\n",
    "bikes = pd.read_csv('data/bay_area_bikeshare/201402_station_data_v2.csv')\n",
    "bikes\n",
    "```\n",
    "    \n",
    "   just copy-paste two values into google maps! (the only time we should copy-paste, right?)\n",
    "    \n",
    "   https://www.google.com/maps/place/37%C2%B019'47.0%22N+121%C2%B054'06.4%22W/\n",
    "\n",
    "</details>"
   ]
  },
  {
   "cell_type": "markdown",
   "metadata": {},
   "source": [
    "### Question\n",
    "Make a bar graph of the number of bike stations per location.\n",
    "\n",
    "![bike-stations-per-location](https://i.ibb.co/89B1cRR/bike-stations-per-location.png)"
   ]
  },
  {
   "cell_type": "code",
   "execution_count": null,
   "metadata": {},
   "outputs": [],
   "source": [
    "# Your code here\n"
   ]
  },
  {
   "cell_type": "markdown",
   "metadata": {},
   "source": [
    "<details>\n",
    "  <summary>Click to expand the solution!</summary>\n",
    "   \n",
    "```python\n",
    "\n",
    "bikes.landmark.value_counts().plot.bar()\n",
    "\n",
    "```\n",
    "    \n",
    "</details>\n"
   ]
  },
  {
   "cell_type": "markdown",
   "metadata": {},
   "source": [
    "### Question\n",
    "Make a scatter plot of the number of bike stations per location.\n",
    "\n",
    "![lat-longs](https://i.ibb.co/262NFsV/lat-longs.png)"
   ]
  },
  {
   "cell_type": "code",
   "execution_count": null,
   "metadata": {},
   "outputs": [],
   "source": [
    "# Your code here\n"
   ]
  },
  {
   "cell_type": "markdown",
   "metadata": {},
   "source": [
    "<details>\n",
    "  <summary>Click to expand the solution!</summary>\n",
    "   \n",
    "```python\n",
    "\n",
    "bikes.plot.scatter('lat', 'long')\n",
    "\n",
    "```\n",
    "    \n",
    "</details>\n"
   ]
  },
  {
   "cell_type": "markdown",
   "metadata": {},
   "source": [
    "### Question\n",
    "Can you make a plot of the dockcounts over time, one line for each location?\n",
    "\n",
    "![bike_stations](https://i.ibb.co/yRqms4w/bike-stations.png)"
   ]
  },
  {
   "cell_type": "code",
   "execution_count": null,
   "metadata": {},
   "outputs": [],
   "source": [
    "# Your code goes here.\n"
   ]
  },
  {
   "cell_type": "markdown",
   "metadata": {},
   "source": [
    "<details>\n",
    "<summary> Click for a hint </summary>\n",
    "\n",
    "```python\n",
    "bikes = pd.read_csv('data/bay_area_bikeshare/201402_station_data_v2.csv')\n",
    "bikes['installation'] = pd.to_datetime(bikes['installation'])\n",
    "bikes = bikes.set_index('installation')\n",
    "```\n",
    "</details>"
   ]
  },
  {
   "cell_type": "markdown",
   "metadata": {},
   "source": [
    "<details>\n",
    "  <summary>Click to expand the solution!</summary>\n",
    "   \n",
    "  ```python\n",
    "bikes = pd.read_csv('data/bay_area_bikeshare/201402_station_data_v2.csv')\n",
    "bikes['installation'] = pd.to_datetime(bikes['installation'])\n",
    "bikes = bikes.set_index('installation')\n",
    "\n",
    "fig, ax = plt.subplots()\n",
    "for city in set(bikes['landmark']):\n",
    "    ax.plot(bikes[bikes['landmark']==city]['dockcount'])\n",
    "\n",
    "# OR\n",
    "\n",
    "fig, ax = plt.subplots()\n",
    "for city in set(bikes['landmark']):\n",
    "    bikes[bikes['landmark']==city]['dockcount'].plot(ax=ax)\n",
    "    \n",
    "# OR\n",
    "\n",
    "bikes.groupby('landmark').dockcount.plot()\n",
    "  ```\n",
    "    \n",
    "</details>"
   ]
  },
  {
   "cell_type": "markdown",
   "metadata": {},
   "source": [
    "### Question\n",
    "Lets see if the stations were made in any kind of directionality: make a plot of the stations in san jose in order of when they were made. It will look like this\n",
    "\n",
    "![bikes_jose](https://i.ibb.co/h7sPkYC/bikes-jose.png)"
   ]
  },
  {
   "cell_type": "code",
   "execution_count": null,
   "metadata": {},
   "outputs": [],
   "source": [
    "# Your code here\n"
   ]
  },
  {
   "cell_type": "markdown",
   "metadata": {},
   "source": [
    "<details>\n",
    "  <summary>Click to expand the solution!</summary>\n",
    "   \n",
    "```python\n",
    "\n",
    "bikes = pd.read_csv('data/bay_area_bikeshare/201402_station_data_v2.csv')\n",
    "bikes['installation'] = pd.to_datetime(bikes['installation'])\n",
    "bikes_jose = bikes[bikes['landmark']==\"San Jose\"]\n",
    "bikes_jose.plot('long','lat')\n",
    "\n",
    "# OR\n",
    "\n",
    "plt.plot(bikes_jose['long'], bikes_jose['lat'])\n",
    "\n",
    "```\n",
    "\n",
    "Doesn't look directional.\n",
    "    \n",
    "</details>\n"
   ]
  },
  {
   "cell_type": "markdown",
   "metadata": {},
   "source": [
    "## More pandas plotting methods: the histogram"
   ]
  },
  {
   "cell_type": "code",
   "execution_count": null,
   "metadata": {
    "hideCode": false,
    "hidePrompt": false
   },
   "outputs": [],
   "source": [
    "# Remember, never reuse variable names for dataframes.\n",
    "wine_df = pd.read_csv('data/winequality-red.csv', sep=';')"
   ]
  },
  {
   "cell_type": "code",
   "execution_count": null,
   "metadata": {
    "hideCode": false,
    "hidePrompt": false
   },
   "outputs": [],
   "source": [
    "wine_df.head()"
   ]
  },
  {
   "cell_type": "code",
   "execution_count": null,
   "metadata": {
    "hideCode": false,
    "hidePrompt": false,
    "scrolled": false
   },
   "outputs": [],
   "source": [
    "wine_df['alcohol'].hist(figsize=(8,6), bins=20);"
   ]
  },
  {
   "cell_type": "markdown",
   "metadata": {},
   "source": [
    "By default, all columns will be plotted."
   ]
  },
  {
   "cell_type": "code",
   "execution_count": null,
   "metadata": {
    "hideCode": false,
    "hidePrompt": false,
    "scrolled": false
   },
   "outputs": [],
   "source": [
    "wine_df.hist(figsize=(12,12), bins=20);"
   ]
  },
  {
   "cell_type": "markdown",
   "metadata": {
    "hideCode": false,
    "hidePrompt": false
   },
   "source": [
    "There's a lot going on behind the scenes in that one command. Here's how we would write it the long way:"
   ]
  },
  {
   "cell_type": "code",
   "execution_count": null,
   "metadata": {
    "hideCode": false,
    "hidePrompt": false,
    "scrolled": false
   },
   "outputs": [],
   "source": [
    "fig, axes = plt.subplots(4,3, figsize=(12,12))\n",
    "for cell_ax, col in zip(axes.flatten(), wine_df.columns):\n",
    "    wine_df[col].hist(ax=cell_ax)\n",
    "    cell_ax.set_title(col)\n",
    "fig.tight_layout() "
   ]
  },
  {
   "cell_type": "markdown",
   "metadata": {},
   "source": [
    "### Scatter plot"
   ]
  },
  {
   "cell_type": "code",
   "execution_count": null,
   "metadata": {
    "hideCode": false,
    "hidePrompt": false,
    "scrolled": false
   },
   "outputs": [],
   "source": [
    "wine_df.plot.scatter('pH', 'alcohol');"
   ]
  },
  {
   "cell_type": "code",
   "execution_count": null,
   "metadata": {
    "scrolled": true
   },
   "outputs": [],
   "source": [
    "wine_df['quality'].value_counts()"
   ]
  },
  {
   "cell_type": "markdown",
   "metadata": {},
   "source": [
    "#### Separate the `quality=5` category."
   ]
  },
  {
   "cell_type": "code",
   "execution_count": null,
   "metadata": {
    "hideCode": false,
    "hidePrompt": false
   },
   "outputs": [],
   "source": [
    "mask = (wine_df['quality'] == 5)"
   ]
  },
  {
   "cell_type": "code",
   "execution_count": null,
   "metadata": {
    "hideCode": false,
    "hidePrompt": false
   },
   "outputs": [],
   "source": [
    "mask.head()"
   ]
  },
  {
   "cell_type": "code",
   "execution_count": null,
   "metadata": {
    "hideCode": false,
    "hidePrompt": false
   },
   "outputs": [],
   "source": [
    "(~mask).head()"
   ]
  },
  {
   "cell_type": "code",
   "execution_count": null,
   "metadata": {
    "hideCode": false,
    "hidePrompt": false
   },
   "outputs": [],
   "source": [
    "wine_df[mask].head()"
   ]
  },
  {
   "cell_type": "code",
   "execution_count": null,
   "metadata": {},
   "outputs": [],
   "source": [
    "wine_df[~mask].head()"
   ]
  },
  {
   "cell_type": "markdown",
   "metadata": {},
   "source": [
    "Now you can plot the two groups."
   ]
  },
  {
   "cell_type": "code",
   "execution_count": null,
   "metadata": {
    "hideCode": false,
    "hidePrompt": false
   },
   "outputs": [],
   "source": [
    "ax = wine_df[mask].plot.scatter('pH', 'alcohol', color='b', alpha=0.1)\n",
    "wine_df[~mask].plot.scatter('pH', 'alcohol', color='r', alpha=0.1, ax=ax);"
   ]
  },
  {
   "cell_type": "markdown",
   "metadata": {},
   "source": [
    "More tricks in the graph above.\n",
    "1. `alpha` controls the level of transparency of the dots.\n",
    "2. `ax=ax` specifies `on which axis` the graph goes to. There are many ways to accomplish the same thing. Happy Pythoning!"
   ]
  },
  {
   "cell_type": "markdown",
   "metadata": {},
   "source": [
    "### Question\n",
    "\n",
    "Make a histogram of all the wine variables."
   ]
  },
  {
   "cell_type": "code",
   "execution_count": null,
   "metadata": {},
   "outputs": [],
   "source": [
    "# your code here.\n"
   ]
  },
  {
   "cell_type": "markdown",
   "metadata": {},
   "source": [
    "<details>\n",
    "  <summary>Click to expand the solution!</summary>\n",
    "   \n",
    "  ```python\n",
    "    \n",
    "\n",
    "wine = pd.read_csv('data/winequality-red.csv', sep=';')\n",
    "wine.hist()\n",
    "  ```\n",
    "    \n",
    "</details>\n"
   ]
  },
  {
   "cell_type": "markdown",
   "metadata": {},
   "source": [
    "### Question\n",
    "\n",
    "Can you plot a histogram of when san fransisco bike stations where made? \n",
    "\n",
    "Your result should look like this. (adjust the bins to 100)\n",
    "\n",
    "![when_sf_bikes](https://i.ibb.co/WKJkzr0/when-sf-bikes.pngg)"
   ]
  },
  {
   "cell_type": "code",
   "execution_count": null,
   "metadata": {},
   "outputs": [],
   "source": [
    "# Your code goes here."
   ]
  },
  {
   "cell_type": "markdown",
   "metadata": {},
   "source": [
    "<details>\n",
    "  <summary>Click to expand the solution!</summary>\n",
    "   \n",
    "  ```python\n",
    "\n",
    "bikes[bikes['landmark']=='San Francisco'].reset_index()['installation'].hist(bins=100)\n",
    "\n",
    "  ```\n",
    "    \n",
    "</details>"
   ]
  },
  {
   "cell_type": "markdown",
   "metadata": {},
   "source": [
    "### Quesiton\n",
    "\n",
    "Can you plot a `pH vs alcohol` scatter plot of all the categories of the `quality` levels? \n",
    "\n",
    "Your result should look like something below.\n",
    "\n",
    "![quality_scatter](https://i.ibb.co/6WP30qR/scatter-colorful.png)"
   ]
  },
  {
   "cell_type": "code",
   "execution_count": null,
   "metadata": {},
   "outputs": [],
   "source": [
    "# Your code goes here.\n"
   ]
  },
  {
   "cell_type": "markdown",
   "metadata": {},
   "source": [
    "<details>\n",
    "  <summary>Click to expand the solution!</summary>\n",
    "   \n",
    "  ```python\n",
    "    \n",
    "    qualities = wine_df['quality'].unique()\n",
    "    fig, ax = plt.subplots(figsize=(8,6))\n",
    "    for i, quality in enumerate(qualities):\n",
    "        wine_df[wine_df[\"quality\"] == quality].plot.scatter('pH', 'alcohol', \n",
    "                                                        color=colors[i],\n",
    "                                                        alpha=0.4, ax=ax,\n",
    "                                                       label=\"quality: {}\".format(quality))\n",
    "        \n",
    "# OR \n",
    "\n",
    "#read https://pandas.pydata.org/pandas-docs/stable/reference/api/pandas.DataFrame.plot.scatter.html\n",
    "\n",
    "color_per_row = np.array(colors)[wine_df['quality']]\n",
    "wine_df.plot.scatter('pH', 'alcohol', color=color_per_row, alpha=0.5)\n",
    "  ```\n",
    "    \n",
    "</details>"
   ]
  },
  {
   "cell_type": "markdown",
   "metadata": {},
   "source": [
    "### Scatter Matrix\n",
    "\n",
    "This is a very powerful plot. This enables you to detect pairwise correlation for all pairs quickly."
   ]
  },
  {
   "cell_type": "code",
   "execution_count": null,
   "metadata": {
    "hideCode": false,
    "hidePrompt": false
   },
   "outputs": [],
   "source": [
    "pd.plotting.scatter_matrix(wine_df.iloc[:,:5], figsize=(12,12));"
   ]
  },
  {
   "cell_type": "markdown",
   "metadata": {},
   "source": [
    "If you are not running on a high spec machine, the next command may take long time."
   ]
  },
  {
   "cell_type": "code",
   "execution_count": null,
   "metadata": {
    "hideCode": false,
    "hidePrompt": false
   },
   "outputs": [],
   "source": [
    "# pd.plotting.scatter_matrix(wine_df, figsize=(12,12));"
   ]
  },
  {
   "cell_type": "markdown",
   "metadata": {
    "hideCode": false,
    "hidePrompt": false
   },
   "source": [
    "# Tips on writting your own plotting functions"
   ]
  },
  {
   "cell_type": "markdown",
   "metadata": {},
   "source": [
    "Oftentimes you don't want to recode your graphs. \n",
    "\n",
    "Whenever you have the instinct to copy-paste is a sign you need to write a function.\n",
    "\n",
    "The best way to write such a function with graphing is to make a function that will take in a ax and some data and plot on that ax."
   ]
  },
  {
   "cell_type": "markdown",
   "metadata": {},
   "source": [
    "Below is a simple function for plotting."
   ]
  },
  {
   "cell_type": "code",
   "execution_count": null,
   "metadata": {
    "hideCode": false,
    "hidePrompt": false
   },
   "outputs": [],
   "source": [
    "def my_plotter(ax, data1, data2, param_dict):\n",
    "    \"\"\"\n",
    "    A helper function to make a graph\n",
    "\n",
    "    Parameters\n",
    "    ----------\n",
    "    ax : Axes\n",
    "        The axes to draw to\n",
    "\n",
    "    data1 : array\n",
    "       The x data\n",
    "\n",
    "    data2 : array\n",
    "       The y data\n",
    "\n",
    "    param_dict : dict\n",
    "       Dictionary of kwargs to pass to ax.plot\n",
    "\n",
    "    Returns\n",
    "    -------\n",
    "    out : list\n",
    "        list of artists added\n",
    "    \"\"\"\n",
    "    out = ax.plot(data1, data2, **param_dict)\n",
    "    return out"
   ]
  },
  {
   "cell_type": "code",
   "execution_count": null,
   "metadata": {
    "hideCode": false,
    "hidePrompt": false,
    "scrolled": true
   },
   "outputs": [],
   "source": [
    "fig, ax = plt.subplots()\n",
    "out = my_plotter(ax, x_sin, y_sin, {'linewidth':3, 'linestyle':'-.'})"
   ]
  },
  {
   "cell_type": "markdown",
   "metadata": {},
   "source": [
    "### Question\n",
    "Make a graphing function for whichever graphs you've liked using so far.\n",
    "\n",
    "![bike-stations-per-location](https://i.ibb.co/89B1cRR/bike-stations-per-location.png)"
   ]
  },
  {
   "cell_type": "code",
   "execution_count": null,
   "metadata": {},
   "outputs": [],
   "source": [
    "# Your code here\n"
   ]
  },
  {
   "cell_type": "markdown",
   "metadata": {},
   "source": []
  },
  {
   "cell_type": "code",
   "execution_count": null,
   "metadata": {},
   "outputs": [],
   "source": []
  },
  {
   "cell_type": "code",
   "execution_count": null,
   "metadata": {},
   "outputs": [],
   "source": []
  },
  {
   "cell_type": "code",
   "execution_count": null,
   "metadata": {},
   "outputs": [],
   "source": []
  },
  {
   "cell_type": "code",
   "execution_count": null,
   "metadata": {},
   "outputs": [],
   "source": []
  },
  {
   "cell_type": "code",
   "execution_count": null,
   "metadata": {},
   "outputs": [],
   "source": []
  },
  {
   "cell_type": "markdown",
   "metadata": {
    "hideCode": false,
    "hidePrompt": false
   },
   "source": [
    "## Quick tip: passing arbitrary numbers of arguments & keyword arguments"
   ]
  },
  {
   "cell_type": "code",
   "execution_count": null,
   "metadata": {
    "hideCode": false,
    "hidePrompt": false,
    "scrolled": false
   },
   "outputs": [],
   "source": [
    "def our_own(*args, **kwargs):\n",
    "    print(args)\n",
    "    print(kwargs)\n",
    "our_own(1,2,3,4,5, one=1, two=2)"
   ]
  },
  {
   "cell_type": "markdown",
   "metadata": {
    "hideCode": false,
    "hidePrompt": false
   },
   "source": [
    "## another quick reminder: unpacking\n",
    "[more on unpacking](https://www.python.org/dev/peps/pep-0448/)"
   ]
  },
  {
   "cell_type": "code",
   "execution_count": null,
   "metadata": {
    "hideCode": false,
    "hidePrompt": false,
    "scrolled": true
   },
   "outputs": [],
   "source": [
    "packed_data = (x_sin, y_sin)\n",
    "fig, ax = plt.subplots()\n",
    "ax.plot(*packed_data)"
   ]
  },
  {
   "cell_type": "markdown",
   "metadata": {},
   "source": [
    "# The End\n",
    "\n",
    "You did it! Congratulations on finishing the whoooole Matplotlib assignment"
   ]
  },
  {
   "cell_type": "code",
   "execution_count": null,
   "metadata": {},
   "outputs": [],
   "source": []
  }
 ],
 "metadata": {
  "hide_code_all_hidden": false,
  "jupytext": {
   "formats": "ipynb,py:light"
  },
  "kernelspec": {
   "display_name": "Python 3",
   "language": "python",
   "name": "python3"
  },
  "language_info": {
   "codemirror_mode": {
    "name": "ipython",
    "version": 3
   },
   "file_extension": ".py",
   "mimetype": "text/x-python",
   "name": "python",
   "nbconvert_exporter": "python",
   "pygments_lexer": "ipython3",
   "version": "3.8.8"
  },
  "toc": {
   "base_numbering": 1,
   "nav_menu": {},
   "number_sections": true,
   "sideBar": true,
   "skip_h1_title": false,
   "title_cell": "Table of Contents",
   "title_sidebar": "Contents",
   "toc_cell": true,
   "toc_position": {
    "height": "calc(100% - 180px)",
    "left": "10px",
    "top": "150px",
    "width": "320px"
   },
   "toc_section_display": true,
   "toc_window_display": true
  }
 },
 "nbformat": 4,
 "nbformat_minor": 2
}
